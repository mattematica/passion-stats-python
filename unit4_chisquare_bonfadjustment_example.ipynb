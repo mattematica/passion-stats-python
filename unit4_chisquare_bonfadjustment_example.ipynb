{
  "nbformat": 4,
  "nbformat_minor": 0,
  "metadata": {
    "colab": {
      "provenance": [],
      "authorship_tag": "ABX9TyMDa/Z3aezKWArBd4otPwnz",
      "include_colab_link": true
    },
    "kernelspec": {
      "name": "python3",
      "display_name": "Python 3"
    },
    "language_info": {
      "name": "python"
    }
  },
  "cells": [
    {
      "cell_type": "markdown",
      "metadata": {
        "id": "view-in-github",
        "colab_type": "text"
      },
      "source": [
        "<a href=\"https://colab.research.google.com/github/mattematica/passion-stats-python/blob/main/unit4_chisquare_bonfadjustment_example.ipynb\" target=\"_parent\"><img src=\"https://colab.research.google.com/assets/colab-badge.svg\" alt=\"Open In Colab\"/></a>"
      ]
    },
    {
      "cell_type": "markdown",
      "source": [
        "# Header Block"
      ],
      "metadata": {
        "id": "KdjJeFF-UR8R"
      }
    },
    {
      "cell_type": "code",
      "execution_count": 1,
      "metadata": {
        "id": "ncvUJjkT8miC"
      },
      "outputs": [],
      "source": [
        "# This header will be the same no matter what code you are using\n",
        "# import modules that we will use multiple functions from and give them short names. \n",
        "\n",
        "import pandas as pd;\n",
        "import numpy as np;\n",
        "import seaborn as sb;\n",
        "import matplotlib.pyplot as plt;\n",
        "\n",
        "\n",
        "# import single functions\n",
        "\n",
        "from scipy.stats.contingency import chi2_contingency;\n",
        "from itertools import combinations;\n",
        "from statsmodels.graphics.mosaicplot import mosaic;\n",
        "from scipy.stats.contingency import chi2_contingency;\n",
        "from scipy.stats import pearsonr;\n",
        "import statsmodels.api as sm\n",
        "from statsmodels.formula.api import ols\n",
        "import statsmodels.stats.multicomp as multi"
      ]
    },
    {
      "cell_type": "markdown",
      "source": [
        "# Data Management Block"
      ],
      "metadata": {
        "id": "47EpPpqsUWfm"
      }
    },
    {
      "cell_type": "code",
      "source": [
        "# Import Variables\n",
        "addhealth_url = 'https://drive.google.com/uc?export=download&id=1LOoZl4utpqTfKjj6nu70RH16frFLyPfm'\n",
        "myData = pd.read_csv(addhealth_url, usecols=['H4MH8','H4TO65B'],low_memory=False)\n",
        "\n",
        "# Rename Variables\n",
        "myData.rename(columns={\n",
        "    'H4MH8':'ATTRACTIVENESS',\n",
        "    'H4TO65B':'MJ'\n",
        "},inplace=True)\n",
        "\n",
        "# Deal with non-responses and legit skips.\n",
        "\n",
        "myData['MJ'].replace({\n",
        "    8:np.nan,\n",
        "    6:np.nan,\n",
        "}, inplace=True)\n",
        "\n",
        "myData['ATTRACTIVENESS'].replace({\n",
        "    8:np.nan,\n",
        "    6:np.nan,\n",
        "}, inplace=True)\n",
        "\n",
        "#Collapse/Create Secondary Variables/Deal with Time\n",
        "\n",
        "\n",
        "# Text Labels\n",
        "\n",
        "myData['ATTRACTIVENESS'].replace({\n",
        "    1:'very',\n",
        "    2:'moderately',\n",
        "    3:'slightly',\n",
        "    4:'not at all'\n",
        "},inplace=True)\n",
        "\n",
        "myData['MJ'].replace({\n",
        "    0:'no',\n",
        "    1:'yes',\n",
        "},inplace=True)"
      ],
      "metadata": {
        "id": "F6T69Puc8w5e"
      },
      "execution_count": 4,
      "outputs": []
    },
    {
      "cell_type": "markdown",
      "source": [
        "# Everything Else"
      ],
      "metadata": {
        "id": "SvmthEF4UaQO"
      }
    },
    {
      "cell_type": "code",
      "source": [
        "pd.crosstab(myData['MJ'], myData['ATTRACTIVENESS'], normalize='columns')"
      ],
      "metadata": {
        "colab": {
          "base_uri": "https://localhost:8080/",
          "height": 143
        },
        "id": "ozaRIR3b9Uzh",
        "outputId": "b684cc47-b59d-40eb-8627-c8e059ef6efb"
      },
      "execution_count": 5,
      "outputs": [
        {
          "output_type": "execute_result",
          "data": {
            "text/plain": [
              "ATTRACTIVENESS  moderately  not at all  slightly      very\n",
              "MJ                                                        \n",
              "no                0.424642    0.508929  0.474801  0.487269\n",
              "yes               0.575358    0.491071  0.525199  0.512731"
            ],
            "text/html": [
              "\n",
              "  <div id=\"df-9f2a6900-1302-46af-9e30-86aea37063db\">\n",
              "    <div class=\"colab-df-container\">\n",
              "      <div>\n",
              "<style scoped>\n",
              "    .dataframe tbody tr th:only-of-type {\n",
              "        vertical-align: middle;\n",
              "    }\n",
              "\n",
              "    .dataframe tbody tr th {\n",
              "        vertical-align: top;\n",
              "    }\n",
              "\n",
              "    .dataframe thead th {\n",
              "        text-align: right;\n",
              "    }\n",
              "</style>\n",
              "<table border=\"1\" class=\"dataframe\">\n",
              "  <thead>\n",
              "    <tr style=\"text-align: right;\">\n",
              "      <th>ATTRACTIVENESS</th>\n",
              "      <th>moderately</th>\n",
              "      <th>not at all</th>\n",
              "      <th>slightly</th>\n",
              "      <th>very</th>\n",
              "    </tr>\n",
              "    <tr>\n",
              "      <th>MJ</th>\n",
              "      <th></th>\n",
              "      <th></th>\n",
              "      <th></th>\n",
              "      <th></th>\n",
              "    </tr>\n",
              "  </thead>\n",
              "  <tbody>\n",
              "    <tr>\n",
              "      <th>no</th>\n",
              "      <td>0.424642</td>\n",
              "      <td>0.508929</td>\n",
              "      <td>0.474801</td>\n",
              "      <td>0.487269</td>\n",
              "    </tr>\n",
              "    <tr>\n",
              "      <th>yes</th>\n",
              "      <td>0.575358</td>\n",
              "      <td>0.491071</td>\n",
              "      <td>0.525199</td>\n",
              "      <td>0.512731</td>\n",
              "    </tr>\n",
              "  </tbody>\n",
              "</table>\n",
              "</div>\n",
              "      <button class=\"colab-df-convert\" onclick=\"convertToInteractive('df-9f2a6900-1302-46af-9e30-86aea37063db')\"\n",
              "              title=\"Convert this dataframe to an interactive table.\"\n",
              "              style=\"display:none;\">\n",
              "        \n",
              "  <svg xmlns=\"http://www.w3.org/2000/svg\" height=\"24px\"viewBox=\"0 0 24 24\"\n",
              "       width=\"24px\">\n",
              "    <path d=\"M0 0h24v24H0V0z\" fill=\"none\"/>\n",
              "    <path d=\"M18.56 5.44l.94 2.06.94-2.06 2.06-.94-2.06-.94-.94-2.06-.94 2.06-2.06.94zm-11 1L8.5 8.5l.94-2.06 2.06-.94-2.06-.94L8.5 2.5l-.94 2.06-2.06.94zm10 10l.94 2.06.94-2.06 2.06-.94-2.06-.94-.94-2.06-.94 2.06-2.06.94z\"/><path d=\"M17.41 7.96l-1.37-1.37c-.4-.4-.92-.59-1.43-.59-.52 0-1.04.2-1.43.59L10.3 9.45l-7.72 7.72c-.78.78-.78 2.05 0 2.83L4 21.41c.39.39.9.59 1.41.59.51 0 1.02-.2 1.41-.59l7.78-7.78 2.81-2.81c.8-.78.8-2.07 0-2.86zM5.41 20L4 18.59l7.72-7.72 1.47 1.35L5.41 20z\"/>\n",
              "  </svg>\n",
              "      </button>\n",
              "      \n",
              "  <style>\n",
              "    .colab-df-container {\n",
              "      display:flex;\n",
              "      flex-wrap:wrap;\n",
              "      gap: 12px;\n",
              "    }\n",
              "\n",
              "    .colab-df-convert {\n",
              "      background-color: #E8F0FE;\n",
              "      border: none;\n",
              "      border-radius: 50%;\n",
              "      cursor: pointer;\n",
              "      display: none;\n",
              "      fill: #1967D2;\n",
              "      height: 32px;\n",
              "      padding: 0 0 0 0;\n",
              "      width: 32px;\n",
              "    }\n",
              "\n",
              "    .colab-df-convert:hover {\n",
              "      background-color: #E2EBFA;\n",
              "      box-shadow: 0px 1px 2px rgba(60, 64, 67, 0.3), 0px 1px 3px 1px rgba(60, 64, 67, 0.15);\n",
              "      fill: #174EA6;\n",
              "    }\n",
              "\n",
              "    [theme=dark] .colab-df-convert {\n",
              "      background-color: #3B4455;\n",
              "      fill: #D2E3FC;\n",
              "    }\n",
              "\n",
              "    [theme=dark] .colab-df-convert:hover {\n",
              "      background-color: #434B5C;\n",
              "      box-shadow: 0px 1px 3px 1px rgba(0, 0, 0, 0.15);\n",
              "      filter: drop-shadow(0px 1px 2px rgba(0, 0, 0, 0.3));\n",
              "      fill: #FFFFFF;\n",
              "    }\n",
              "  </style>\n",
              "\n",
              "      <script>\n",
              "        const buttonEl =\n",
              "          document.querySelector('#df-9f2a6900-1302-46af-9e30-86aea37063db button.colab-df-convert');\n",
              "        buttonEl.style.display =\n",
              "          google.colab.kernel.accessAllowed ? 'block' : 'none';\n",
              "\n",
              "        async function convertToInteractive(key) {\n",
              "          const element = document.querySelector('#df-9f2a6900-1302-46af-9e30-86aea37063db');\n",
              "          const dataTable =\n",
              "            await google.colab.kernel.invokeFunction('convertToInteractive',\n",
              "                                                     [key], {});\n",
              "          if (!dataTable) return;\n",
              "\n",
              "          const docLinkHtml = 'Like what you see? Visit the ' +\n",
              "            '<a target=\"_blank\" href=https://colab.research.google.com/notebooks/data_table.ipynb>data table notebook</a>'\n",
              "            + ' to learn more about interactive tables.';\n",
              "          element.innerHTML = '';\n",
              "          dataTable['output_type'] = 'display_data';\n",
              "          await google.colab.output.renderOutput(dataTable, element);\n",
              "          const docLink = document.createElement('div');\n",
              "          docLink.innerHTML = docLinkHtml;\n",
              "          element.appendChild(docLink);\n",
              "        }\n",
              "      </script>\n",
              "    </div>\n",
              "  </div>\n",
              "  "
            ]
          },
          "metadata": {},
          "execution_count": 5
        }
      ]
    },
    {
      "cell_type": "code",
      "source": [
        "mosaic(data=myData, index=['MJ','ATTRACTIVENESS'],axes_label=True)"
      ],
      "metadata": {
        "id": "zyDjogVh-Kpx",
        "colab": {
          "base_uri": "https://localhost:8080/",
          "height": 794
        },
        "outputId": "96de4fd1-65f1-443c-d646-dae1054f1594"
      },
      "execution_count": 7,
      "outputs": [
        {
          "output_type": "execute_result",
          "data": {
            "text/plain": [
              "(<Figure size 432x288 with 3 Axes>,\n",
              " {('no', 'moderately'): (0.0, 0.0, 0.44987304346971957, 0.47386398028449134),\n",
              "  ('no', 'very'): (0.0,\n",
              "   0.4771643103174946,\n",
              "   0.44987304346971957,\n",
              "   0.182022569069134),\n",
              "  ('no', 'slightly'): (0.0,\n",
              "   0.6624872094196319,\n",
              "   0.44987304346971957,\n",
              "   0.3095680747114013),\n",
              "  ('no', 'not at all'): (0.0,\n",
              "   0.9753556141640365,\n",
              "   0.44987304346971957,\n",
              "   0.024644385835963466),\n",
              "  ('yes', 'moderately'): (0.454848167847829,\n",
              "   0.0,\n",
              "   0.5451518321521711,\n",
              "   0.5298367674605298),\n",
              "  ('yes', 'very'): (0.454848167847829,\n",
              "   0.5331370974935331,\n",
              "   0.5451518321521711,\n",
              "   0.1580590491481581),\n",
              "  ('yes', 'slightly'): (0.454848167847829,\n",
              "   0.6944964766746945,\n",
              "   0.5451518321521711,\n",
              "   0.28257960931228254),\n",
              "  ('yes', 'not at all'): (0.454848167847829,\n",
              "   0.9803764160199804,\n",
              "   0.5451518321521711,\n",
              "   0.019623583980019642)})"
            ]
          },
          "metadata": {},
          "execution_count": 7
        },
        {
          "output_type": "display_data",
          "data": {
            "text/plain": [
              "<Figure size 432x288 with 3 Axes>"
            ],
            "image/png": "[encoded data removed]"
          },
          "metadata": {
            "needs_background": "light"
          }
        }
      ]
    },
    {
      "cell_type": "code",
      "source": [
        "ct = pd.crosstab(myData['MJ'], myData['ATTRACTIVENESS'])\n",
        "ts, pval, degfree, expected = chi2_contingency(ct)\n",
        "print(f\"Test Stat = {ts}, P-Value={pval}\")"
      ],
      "metadata": {
        "id": "H0NUzKaB-Gk7",
        "colab": {
          "base_uri": "https://localhost:8080/"
        },
        "outputId": "63741a1d-b9bf-4463-f6e7-000c4ceb9aa6"
      },
      "execution_count": 8,
      "outputs": [
        {
          "output_type": "stream",
          "name": "stdout",
          "text": [
            "Test Stat = 16.767442260860335, P-Value=0.0007889924650153877\n"
          ]
        }
      ]
    },
    {
      "cell_type": "code",
      "source": [
        "levels = ['very','moderately','slightly','not at all']\n",
        "\n",
        "for comb in combinations(levels,2):\n",
        "  df = myData[(myData['ATTRACTIVENESS']== comb[0]) | (myData['ATTRACTIVENESS']==comb[1])]\n",
        "  ct = pd.crosstab(df['MJ'], df['ATTRACTIVENESS'])\n",
        "  print(pd.crosstab(df['MJ'], df['ATTRACTIVENESS'],normalize='columns'))\n",
        "  test_stat, pval, degfree, expected = chi2_contingency(ct)\n",
        "  print(f\"Testing {comb}:  p-value = {pval} and test-stat={test_stat}\\n\")"
      ],
      "metadata": {
        "id": "L3ML3Pck-0vd",
        "colab": {
          "base_uri": "https://localhost:8080/"
        },
        "outputId": "70c6cf48-bf26-406e-dedc-60acc08105bf"
      },
      "execution_count": 9,
      "outputs": [
        {
          "output_type": "stream",
          "name": "stdout",
          "text": [
            "ATTRACTIVENESS  moderately      very\n",
            "MJ                                  \n",
            "no                0.424642  0.487269\n",
            "yes               0.575358  0.512731\n",
            "Testing ('very', 'moderately'):  p-value = 0.0015239652429195525 and test-stat=10.049412629489401\n",
            "\n",
            "ATTRACTIVENESS  slightly      very\n",
            "MJ                                \n",
            "no              0.474801  0.487269\n",
            "yes             0.525199  0.512731\n",
            "Testing ('very', 'slightly'):  p-value = 0.5876860079023631 and test-stat=0.29397253944714397\n",
            "\n",
            "ATTRACTIVENESS  not at all      very\n",
            "MJ                                  \n",
            "no                0.508929  0.487269\n",
            "yes               0.491071  0.512731\n",
            "Testing ('very', 'not at all'):  p-value = 0.7406511306065162 and test-stat=0.10955517627393484\n",
            "\n",
            "ATTRACTIVENESS  moderately  slightly\n",
            "MJ                                  \n",
            "no                0.424642  0.474801\n",
            "yes               0.575358  0.525199\n",
            "Testing ('moderately', 'slightly'):  p-value = 0.0020517079357272616 and test-stat=9.502690853012242\n",
            "\n",
            "ATTRACTIVENESS  moderately  not at all\n",
            "MJ                                    \n",
            "no                0.424642    0.508929\n",
            "yes               0.575358    0.491071\n",
            "Testing ('moderately', 'not at all'):  p-value = 0.09545215852353933 and test-stat=2.7799330508018967\n",
            "\n",
            "ATTRACTIVENESS  not at all  slightly\n",
            "MJ                                  \n",
            "no                0.508929  0.474801\n",
            "yes               0.491071  0.525199\n",
            "Testing ('slightly', 'not at all'):  p-value = 0.5487629523986608 and test-stat=0.35953796054621145\n",
            "\n"
          ]
        }
      ]
    }
  ]
}