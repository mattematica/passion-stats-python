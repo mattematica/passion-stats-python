{
  "nbformat": 4,
  "nbformat_minor": 0,
  "metadata": {
    "colab": {
      "provenance": [],
      "authorship_tag": "ABX9TyNxQnnHSbg7wbW8JbNsLMuS",
      "include_colab_link": true
    },
    "kernelspec": {
      "name": "python3",
      "display_name": "Python 3"
    },
    "language_info": {
      "name": "python"
    }
  },
  "cells": [
    {
      "cell_type": "markdown",
      "metadata": {
        "id": "view-in-github",
        "colab_type": "text"
      },
      "source": [
        "<a href=\"https://colab.research.google.com/github/mattematica/passion-stats-python/blob/main/unit4_chisquarred_classactivity.ipynb\" target=\"_parent\"><img src=\"https://colab.research.google.com/assets/colab-badge.svg\" alt=\"Open In Colab\"/></a>"
      ]
    },
    {
      "cell_type": "markdown",
      "source": [
        "# Header Block"
      ],
      "metadata": {
        "id": "cof0dudoruX3"
      }
    },
    {
      "cell_type": "code",
      "execution_count": 2,
      "metadata": {
        "id": "tqilvk7kX3aN"
      },
      "outputs": [],
      "source": [
        "# This header will be the same no matter what code you are using\n",
        "# import modules that we will use multiple functions from and give them short names. \n",
        "\n",
        "import pandas as pd;\n",
        "import numpy as np;\n",
        "import seaborn as sb;\n",
        "import matplotlib.pyplot as plt;\n",
        "\n",
        "\n",
        "# import single functions\n",
        "\n",
        "from scipy.stats.contingency import chi2_contingency;\n",
        "from itertools import combinations;\n",
        "from statsmodels.graphics.mosaicplot import mosaic;\n",
        "from scipy.stats.contingency import chi2_contingency;\n",
        "from scipy.stats import pearsonr;\n",
        "import statsmodels.api as sm\n",
        "from statsmodels.formula.api import ols\n",
        "import statsmodels.stats.multicomp as multi"
      ]
    },
    {
      "cell_type": "markdown",
      "source": [
        "# Data Management"
      ],
      "metadata": {
        "id": "IMhVRnHTrxdW"
      }
    },
    {
      "cell_type": "code",
      "source": [
        "# Importing Variables\n",
        "addhealth_url = 'https://drive.google.com/uc?export=download&id=1LOoZl4utpqTfKjj6nu70RH16frFLyPfm'\n",
        "myData = pd.read_csv(addhealth_url,usecols=['H4ID8','H4ID11'],low_memory=False)\n",
        "\n",
        "\n",
        "#Renaming Variables\n",
        "\n",
        "myData.rename(columns={\n",
        "    'H4ID8':'CAR_ACCIDENT',\n",
        "    'H4ID11':'PAIN_RELIEF',\n",
        "},inplace=True)\n",
        "\n",
        "# Dealing with non-responses and legit-skips\n",
        "\n",
        "myData['PAIN_RELIEF'].replace({\n",
        "    6:np.nan,\n",
        "    8:np.nan,\n",
        "},inplace=True)\n",
        "\n",
        "myData['CAR_ACCIDENT'].replace({\n",
        "    8:np.nan,\n",
        "},inplace=True)\n",
        "\n",
        "# Collapsing Varibles/Creating Secondary Variables/Dealing with Time\n",
        "\n",
        "\n",
        "# Text Labels\n",
        "\n",
        "myData['CAR_ACCIDENT'].replace({\n",
        "    0.0:'No',\n",
        "    1.0:'Yes',\n",
        "},inplace=True)\n",
        "\n",
        "myData['PAIN_RELIEF'].replace({\n",
        "    0.0:'No',\n",
        "    1.0:'Yes',\n",
        "},inplace=True)"
      ],
      "metadata": {
        "id": "1VbuwyI-Zhrw"
      },
      "execution_count": 3,
      "outputs": []
    },
    {
      "cell_type": "markdown",
      "source": [
        "# Everything Else"
      ],
      "metadata": {
        "id": "Xghr4G3Ir0Jz"
      }
    },
    {
      "cell_type": "code",
      "source": [
        "pd.crosstab(myData['PAIN_RELIEF'],myData['CAR_ACCIDENT'], margins=True)"
      ],
      "metadata": {
        "id": "0srIlJvOa0bv",
        "colab": {
          "base_uri": "https://localhost:8080/",
          "height": 175
        },
        "outputId": "b8fa607d-7e38-4998-a3a1-e161e4f0e53a"
      },
      "execution_count": 4,
      "outputs": [
        {
          "output_type": "execute_result",
          "data": {
            "text/plain": [
              "CAR_ACCIDENT    No  Yes   All\n",
              "PAIN_RELIEF                  \n",
              "No            3910  449  4359\n",
              "Yes            663   89   752\n",
              "All           4573  538  5111"
            ],
            "text/html": [
              "\n",
              "  <div id=\"df-35a18ebb-5148-4335-91d0-84b3210d8b20\">\n",
              "    <div class=\"colab-df-container\">\n",
              "      <div>\n",
              "<style scoped>\n",
              "    .dataframe tbody tr th:only-of-type {\n",
              "        vertical-align: middle;\n",
              "    }\n",
              "\n",
              "    .dataframe tbody tr th {\n",
              "        vertical-align: top;\n",
              "    }\n",
              "\n",
              "    .dataframe thead th {\n",
              "        text-align: right;\n",
              "    }\n",
              "</style>\n",
              "<table border=\"1\" class=\"dataframe\">\n",
              "  <thead>\n",
              "    <tr style=\"text-align: right;\">\n",
              "      <th>CAR_ACCIDENT</th>\n",
              "      <th>No</th>\n",
              "      <th>Yes</th>\n",
              "      <th>All</th>\n",
              "    </tr>\n",
              "    <tr>\n",
              "      <th>PAIN_RELIEF</th>\n",
              "      <th></th>\n",
              "      <th></th>\n",
              "      <th></th>\n",
              "    </tr>\n",
              "  </thead>\n",
              "  <tbody>\n",
              "    <tr>\n",
              "      <th>No</th>\n",
              "      <td>3910</td>\n",
              "      <td>449</td>\n",
              "      <td>4359</td>\n",
              "    </tr>\n",
              "    <tr>\n",
              "      <th>Yes</th>\n",
              "      <td>663</td>\n",
              "      <td>89</td>\n",
              "      <td>752</td>\n",
              "    </tr>\n",
              "    <tr>\n",
              "      <th>All</th>\n",
              "      <td>4573</td>\n",
              "      <td>538</td>\n",
              "      <td>5111</td>\n",
              "    </tr>\n",
              "  </tbody>\n",
              "</table>\n",
              "</div>\n",
              "      <button class=\"colab-df-convert\" onclick=\"convertToInteractive('df-35a18ebb-5148-4335-91d0-84b3210d8b20')\"\n",
              "              title=\"Convert this dataframe to an interactive table.\"\n",
              "              style=\"display:none;\">\n",
              "        \n",
              "  <svg xmlns=\"http://www.w3.org/2000/svg\" height=\"24px\"viewBox=\"0 0 24 24\"\n",
              "       width=\"24px\">\n",
              "    <path d=\"M0 0h24v24H0V0z\" fill=\"none\"/>\n",
              "    <path d=\"M18.56 5.44l.94 2.06.94-2.06 2.06-.94-2.06-.94-.94-2.06-.94 2.06-2.06.94zm-11 1L8.5 8.5l.94-2.06 2.06-.94-2.06-.94L8.5 2.5l-.94 2.06-2.06.94zm10 10l.94 2.06.94-2.06 2.06-.94-2.06-.94-.94-2.06-.94 2.06-2.06.94z\"/><path d=\"M17.41 7.96l-1.37-1.37c-.4-.4-.92-.59-1.43-.59-.52 0-1.04.2-1.43.59L10.3 9.45l-7.72 7.72c-.78.78-.78 2.05 0 2.83L4 21.41c.39.39.9.59 1.41.59.51 0 1.02-.2 1.41-.59l7.78-7.78 2.81-2.81c.8-.78.8-2.07 0-2.86zM5.41 20L4 18.59l7.72-7.72 1.47 1.35L5.41 20z\"/>\n",
              "  </svg>\n",
              "      </button>\n",
              "      \n",
              "  <style>\n",
              "    .colab-df-container {\n",
              "      display:flex;\n",
              "      flex-wrap:wrap;\n",
              "      gap: 12px;\n",
              "    }\n",
              "\n",
              "    .colab-df-convert {\n",
              "      background-color: #E8F0FE;\n",
              "      border: none;\n",
              "      border-radius: 50%;\n",
              "      cursor: pointer;\n",
              "      display: none;\n",
              "      fill: #1967D2;\n",
              "      height: 32px;\n",
              "      padding: 0 0 0 0;\n",
              "      width: 32px;\n",
              "    }\n",
              "\n",
              "    .colab-df-convert:hover {\n",
              "      background-color: #E2EBFA;\n",
              "      box-shadow: 0px 1px 2px rgba(60, 64, 67, 0.3), 0px 1px 3px 1px rgba(60, 64, 67, 0.15);\n",
              "      fill: #174EA6;\n",
              "    }\n",
              "\n",
              "    [theme=dark] .colab-df-convert {\n",
              "      background-color: #3B4455;\n",
              "      fill: #D2E3FC;\n",
              "    }\n",
              "\n",
              "    [theme=dark] .colab-df-convert:hover {\n",
              "      background-color: #434B5C;\n",
              "      box-shadow: 0px 1px 3px 1px rgba(0, 0, 0, 0.15);\n",
              "      filter: drop-shadow(0px 1px 2px rgba(0, 0, 0, 0.3));\n",
              "      fill: #FFFFFF;\n",
              "    }\n",
              "  </style>\n",
              "\n",
              "      <script>\n",
              "        const buttonEl =\n",
              "          document.querySelector('#df-35a18ebb-5148-4335-91d0-84b3210d8b20 button.colab-df-convert');\n",
              "        buttonEl.style.display =\n",
              "          google.colab.kernel.accessAllowed ? 'block' : 'none';\n",
              "\n",
              "        async function convertToInteractive(key) {\n",
              "          const element = document.querySelector('#df-35a18ebb-5148-4335-91d0-84b3210d8b20');\n",
              "          const dataTable =\n",
              "            await google.colab.kernel.invokeFunction('convertToInteractive',\n",
              "                                                     [key], {});\n",
              "          if (!dataTable) return;\n",
              "\n",
              "          const docLinkHtml = 'Like what you see? Visit the ' +\n",
              "            '<a target=\"_blank\" href=https://colab.research.google.com/notebooks/data_table.ipynb>data table notebook</a>'\n",
              "            + ' to learn more about interactive tables.';\n",
              "          element.innerHTML = '';\n",
              "          dataTable['output_type'] = 'display_data';\n",
              "          await google.colab.output.renderOutput(dataTable, element);\n",
              "          const docLink = document.createElement('div');\n",
              "          docLink.innerHTML = docLinkHtml;\n",
              "          element.appendChild(docLink);\n",
              "        }\n",
              "      </script>\n",
              "    </div>\n",
              "  </div>\n",
              "  "
            ]
          },
          "metadata": {},
          "execution_count": 4
        }
      ]
    },
    {
      "cell_type": "code",
      "source": [
        "mosaic(data=myData, index=['PAIN_RELIEF','CAR_ACCIDENT'])"
      ],
      "metadata": {
        "id": "VZpfmT1fbTlt",
        "colab": {
          "base_uri": "https://localhost:8080/",
          "height": 512
        },
        "outputId": "faa71468-bb79-4d8e-b028-843e38c89e98"
      },
      "execution_count": 5,
      "outputs": [
        {
          "output_type": "execute_result",
          "data": {
            "text/plain": [
              "(<Figure size 432x288 with 3 Axes>,\n",
              " {('No', 'No'): (0.0, 0.0, 0.8486232504081044, 0.8940146746449663),\n",
              "  ('No', 'Yes'): (0.0,\n",
              "   0.897336933781179,\n",
              "   0.8486232504081044,\n",
              "   0.10266306621882096),\n",
              "  ('Yes', 'No'): (0.8535983747862138,\n",
              "   0.0,\n",
              "   0.14640162521378627,\n",
              "   0.8787198699370891),\n",
              "  ('Yes', 'Yes'): (0.8535983747862138,\n",
              "   0.8820421290733017,\n",
              "   0.14640162521378627,\n",
              "   0.11795787092669821)})"
            ]
          },
          "metadata": {},
          "execution_count": 5
        },
        {
          "output_type": "display_data",
          "data": {
            "text/plain": [
              "<Figure size 432x288 with 3 Axes>"
            ],
            "image/png": "[encoded data removed]"
          },
          "metadata": {
            "needs_background": "light"
          }
        }
      ]
    },
    {
      "cell_type": "code",
      "source": [
        "ct = pd.crosstab(myData['PAIN_RELIEF'],myData['CAR_ACCIDENT'])\n",
        "test_stat, p_val, degfree, expected = chi2_contingency(ct)\n",
        "print(f\"Test-Stat={test_stat}, P-Value={p_val}\")"
      ],
      "metadata": {
        "id": "ySayqfeNcGNC",
        "colab": {
          "base_uri": "https://localhost:8080/"
        },
        "outputId": "41cb3508-4d86-4266-94c7-5e43902d9ee3"
      },
      "execution_count": 8,
      "outputs": [
        {
          "output_type": "stream",
          "name": "stdout",
          "text": [
            "Test-Stat=1.4448373805142132, P-Value=0.22935814839777957\n"
          ]
        }
      ]
    }
  ]
}